{
 "cells": [
  {
   "cell_type": "code",
   "execution_count": 48,
   "metadata": {},
   "outputs": [],
   "source": [
    "import pandas as pd\n",
    "import numpy as np\n",
    "import matplotlib.pyplot as plt "
   ]
  },
  {
   "cell_type": "code",
   "execution_count": 49,
   "metadata": {},
   "outputs": [],
   "source": [
    "df=pd.read_csv('dinos.csv')\n",
    "df.head()\n",
    "gender=pd.get_dummies(df['Gender'],drop_first=True).astype(int)\n",
    "\n",
    "species=pd.get_dummies(df['Species'],drop_first=True).astype(int)\n",
    "\n",
    "\n",
    "\n"
   ]
  },
  {
   "cell_type": "code",
   "execution_count": 50,
   "metadata": {},
   "outputs": [
    {
     "data": {
      "text/html": [
       "<div>\n",
       "<style scoped>\n",
       "    .dataframe tbody tr th:only-of-type {\n",
       "        vertical-align: middle;\n",
       "    }\n",
       "\n",
       "    .dataframe tbody tr th {\n",
       "        vertical-align: top;\n",
       "    }\n",
       "\n",
       "    .dataframe thead th {\n",
       "        text-align: right;\n",
       "    }\n",
       "</style>\n",
       "<table border=\"1\" class=\"dataframe\">\n",
       "  <thead>\n",
       "    <tr style=\"text-align: right;\">\n",
       "      <th></th>\n",
       "      <th>Weight</th>\n",
       "      <th>Length</th>\n",
       "      <th>Age</th>\n",
       "      <th>TailLength</th>\n",
       "      <th>Height</th>\n",
       "      <th>Width</th>\n",
       "      <th>Gender</th>\n",
       "      <th>Completeness</th>\n",
       "      <th>iguanadon</th>\n",
       "      <th>Plateosaurus</th>\n",
       "      <th>Pterodactyl</th>\n",
       "      <th>Raptor</th>\n",
       "      <th>Stegosaurus</th>\n",
       "      <th>Vulcanodon</th>\n",
       "    </tr>\n",
       "  </thead>\n",
       "  <tbody>\n",
       "    <tr>\n",
       "      <th>0</th>\n",
       "      <td>1650.0</td>\n",
       "      <td>59.0</td>\n",
       "      <td>63.4</td>\n",
       "      <td>68.0</td>\n",
       "      <td>10.8120</td>\n",
       "      <td>7.480</td>\n",
       "      <td>1</td>\n",
       "      <td>0.545</td>\n",
       "      <td>1</td>\n",
       "      <td>0</td>\n",
       "      <td>0</td>\n",
       "      <td>0</td>\n",
       "      <td>0</td>\n",
       "      <td>0</td>\n",
       "    </tr>\n",
       "    <tr>\n",
       "      <th>1</th>\n",
       "      <td>145.0</td>\n",
       "      <td>22.0</td>\n",
       "      <td>24.0</td>\n",
       "      <td>25.5</td>\n",
       "      <td>6.3750</td>\n",
       "      <td>3.825</td>\n",
       "      <td>1</td>\n",
       "      <td>0.531</td>\n",
       "      <td>0</td>\n",
       "      <td>0</td>\n",
       "      <td>1</td>\n",
       "      <td>0</td>\n",
       "      <td>0</td>\n",
       "      <td>0</td>\n",
       "    </tr>\n",
       "    <tr>\n",
       "      <th>2</th>\n",
       "      <td>820.0</td>\n",
       "      <td>37.1</td>\n",
       "      <td>40.0</td>\n",
       "      <td>42.5</td>\n",
       "      <td>11.1350</td>\n",
       "      <td>6.630</td>\n",
       "      <td>0</td>\n",
       "      <td>0.661</td>\n",
       "      <td>0</td>\n",
       "      <td>0</td>\n",
       "      <td>1</td>\n",
       "      <td>0</td>\n",
       "      <td>0</td>\n",
       "      <td>0</td>\n",
       "    </tr>\n",
       "    <tr>\n",
       "      <th>3</th>\n",
       "      <td>242.0</td>\n",
       "      <td>23.2</td>\n",
       "      <td>25.4</td>\n",
       "      <td>30.0</td>\n",
       "      <td>11.5200</td>\n",
       "      <td>4.020</td>\n",
       "      <td>0</td>\n",
       "      <td>0.793</td>\n",
       "      <td>0</td>\n",
       "      <td>0</td>\n",
       "      <td>0</td>\n",
       "      <td>0</td>\n",
       "      <td>0</td>\n",
       "      <td>0</td>\n",
       "    </tr>\n",
       "    <tr>\n",
       "      <th>4</th>\n",
       "      <td>650.0</td>\n",
       "      <td>36.5</td>\n",
       "      <td>39.0</td>\n",
       "      <td>41.4</td>\n",
       "      <td>11.1366</td>\n",
       "      <td>6.003</td>\n",
       "      <td>1</td>\n",
       "      <td>0.931</td>\n",
       "      <td>0</td>\n",
       "      <td>0</td>\n",
       "      <td>1</td>\n",
       "      <td>0</td>\n",
       "      <td>0</td>\n",
       "      <td>0</td>\n",
       "    </tr>\n",
       "  </tbody>\n",
       "</table>\n",
       "</div>"
      ],
      "text/plain": [
       "   Weight  Length   Age  TailLength   Height  Width  Gender  Completeness  \\\n",
       "0  1650.0    59.0  63.4        68.0  10.8120  7.480       1         0.545   \n",
       "1   145.0    22.0  24.0        25.5   6.3750  3.825       1         0.531   \n",
       "2   820.0    37.1  40.0        42.5  11.1350  6.630       0         0.661   \n",
       "3   242.0    23.2  25.4        30.0  11.5200  4.020       0         0.793   \n",
       "4   650.0    36.5  39.0        41.4  11.1366  6.003       1         0.931   \n",
       "\n",
       "   iguanadon  Plateosaurus  Pterodactyl  Raptor  Stegosaurus  Vulcanodon  \n",
       "0          1             0            0       0            0           0  \n",
       "1          0             0            1       0            0           0  \n",
       "2          0             0            1       0            0           0  \n",
       "3          0             0            0       0            0           0  \n",
       "4          0             0            1       0            0           0  "
      ]
     },
     "execution_count": 50,
     "metadata": {},
     "output_type": "execute_result"
    }
   ],
   "source": [
    "df['Gender']=gender \n",
    "\n",
    "\n",
    "df['iguanadon']=species['Iguanadon']\n",
    "df['Plateosaurus']=species['Plateosaurus']\n",
    "df['Pterodactyl']=species['Pterodactyl']\n",
    "df['Raptor']=species['Raptor']\n",
    "df['Stegosaurus']=species['Stegosaurus']\n",
    "df['Vulcanodon']=species['Vulcanodon']\n",
    "df=df.drop('Species',axis=1)\n",
    "df.head()\n",
    "\n"
   ]
  },
  {
   "cell_type": "code",
   "execution_count": 51,
   "metadata": {},
   "outputs": [],
   "source": [
    "df['length^2']=df['Length']**2\n",
    "df['Height^2']=df['Height']**2\n",
    "df['Age^2']=df['Age']**2\n",
    "df['TL^2']=df['TailLength']**2\n",
    "df['Width^2']=df['Width']**2"
   ]
  },
  {
   "cell_type": "code",
   "execution_count": 52,
   "metadata": {},
   "outputs": [
    {
     "data": {
      "text/html": [
       "<div>\n",
       "<style scoped>\n",
       "    .dataframe tbody tr th:only-of-type {\n",
       "        vertical-align: middle;\n",
       "    }\n",
       "\n",
       "    .dataframe tbody tr th {\n",
       "        vertical-align: top;\n",
       "    }\n",
       "\n",
       "    .dataframe thead th {\n",
       "        text-align: right;\n",
       "    }\n",
       "</style>\n",
       "<table border=\"1\" class=\"dataframe\">\n",
       "  <thead>\n",
       "    <tr style=\"text-align: right;\">\n",
       "      <th></th>\n",
       "      <th>Weight</th>\n",
       "      <th>Length</th>\n",
       "      <th>Age</th>\n",
       "      <th>TailLength</th>\n",
       "      <th>Height</th>\n",
       "      <th>Width</th>\n",
       "      <th>Gender</th>\n",
       "      <th>Completeness</th>\n",
       "      <th>iguanadon</th>\n",
       "      <th>Plateosaurus</th>\n",
       "      <th>Pterodactyl</th>\n",
       "      <th>Raptor</th>\n",
       "      <th>Stegosaurus</th>\n",
       "      <th>Vulcanodon</th>\n",
       "      <th>length^2</th>\n",
       "      <th>Height^2</th>\n",
       "      <th>Age^2</th>\n",
       "      <th>TL^2</th>\n",
       "      <th>Width^2</th>\n",
       "    </tr>\n",
       "  </thead>\n",
       "  <tbody>\n",
       "    <tr>\n",
       "      <th>0</th>\n",
       "      <td>1650.0</td>\n",
       "      <td>59.0</td>\n",
       "      <td>63.4</td>\n",
       "      <td>68.0</td>\n",
       "      <td>10.8120</td>\n",
       "      <td>7.480</td>\n",
       "      <td>1</td>\n",
       "      <td>0.545</td>\n",
       "      <td>1</td>\n",
       "      <td>0</td>\n",
       "      <td>0</td>\n",
       "      <td>0</td>\n",
       "      <td>0</td>\n",
       "      <td>0</td>\n",
       "      <td>3481.00</td>\n",
       "      <td>116.899344</td>\n",
       "      <td>4019.56</td>\n",
       "      <td>4624.00</td>\n",
       "      <td>55.950400</td>\n",
       "    </tr>\n",
       "    <tr>\n",
       "      <th>1</th>\n",
       "      <td>145.0</td>\n",
       "      <td>22.0</td>\n",
       "      <td>24.0</td>\n",
       "      <td>25.5</td>\n",
       "      <td>6.3750</td>\n",
       "      <td>3.825</td>\n",
       "      <td>1</td>\n",
       "      <td>0.531</td>\n",
       "      <td>0</td>\n",
       "      <td>0</td>\n",
       "      <td>1</td>\n",
       "      <td>0</td>\n",
       "      <td>0</td>\n",
       "      <td>0</td>\n",
       "      <td>484.00</td>\n",
       "      <td>40.640625</td>\n",
       "      <td>576.00</td>\n",
       "      <td>650.25</td>\n",
       "      <td>14.630625</td>\n",
       "    </tr>\n",
       "    <tr>\n",
       "      <th>2</th>\n",
       "      <td>820.0</td>\n",
       "      <td>37.1</td>\n",
       "      <td>40.0</td>\n",
       "      <td>42.5</td>\n",
       "      <td>11.1350</td>\n",
       "      <td>6.630</td>\n",
       "      <td>0</td>\n",
       "      <td>0.661</td>\n",
       "      <td>0</td>\n",
       "      <td>0</td>\n",
       "      <td>1</td>\n",
       "      <td>0</td>\n",
       "      <td>0</td>\n",
       "      <td>0</td>\n",
       "      <td>1376.41</td>\n",
       "      <td>123.988225</td>\n",
       "      <td>1600.00</td>\n",
       "      <td>1806.25</td>\n",
       "      <td>43.956900</td>\n",
       "    </tr>\n",
       "    <tr>\n",
       "      <th>3</th>\n",
       "      <td>242.0</td>\n",
       "      <td>23.2</td>\n",
       "      <td>25.4</td>\n",
       "      <td>30.0</td>\n",
       "      <td>11.5200</td>\n",
       "      <td>4.020</td>\n",
       "      <td>0</td>\n",
       "      <td>0.793</td>\n",
       "      <td>0</td>\n",
       "      <td>0</td>\n",
       "      <td>0</td>\n",
       "      <td>0</td>\n",
       "      <td>0</td>\n",
       "      <td>0</td>\n",
       "      <td>538.24</td>\n",
       "      <td>132.710400</td>\n",
       "      <td>645.16</td>\n",
       "      <td>900.00</td>\n",
       "      <td>16.160400</td>\n",
       "    </tr>\n",
       "    <tr>\n",
       "      <th>4</th>\n",
       "      <td>650.0</td>\n",
       "      <td>36.5</td>\n",
       "      <td>39.0</td>\n",
       "      <td>41.4</td>\n",
       "      <td>11.1366</td>\n",
       "      <td>6.003</td>\n",
       "      <td>1</td>\n",
       "      <td>0.931</td>\n",
       "      <td>0</td>\n",
       "      <td>0</td>\n",
       "      <td>1</td>\n",
       "      <td>0</td>\n",
       "      <td>0</td>\n",
       "      <td>0</td>\n",
       "      <td>1332.25</td>\n",
       "      <td>124.023860</td>\n",
       "      <td>1521.00</td>\n",
       "      <td>1713.96</td>\n",
       "      <td>36.036009</td>\n",
       "    </tr>\n",
       "  </tbody>\n",
       "</table>\n",
       "</div>"
      ],
      "text/plain": [
       "   Weight  Length   Age  TailLength   Height  Width  Gender  Completeness  \\\n",
       "0  1650.0    59.0  63.4        68.0  10.8120  7.480       1         0.545   \n",
       "1   145.0    22.0  24.0        25.5   6.3750  3.825       1         0.531   \n",
       "2   820.0    37.1  40.0        42.5  11.1350  6.630       0         0.661   \n",
       "3   242.0    23.2  25.4        30.0  11.5200  4.020       0         0.793   \n",
       "4   650.0    36.5  39.0        41.4  11.1366  6.003       1         0.931   \n",
       "\n",
       "   iguanadon  Plateosaurus  Pterodactyl  Raptor  Stegosaurus  Vulcanodon  \\\n",
       "0          1             0            0       0            0           0   \n",
       "1          0             0            1       0            0           0   \n",
       "2          0             0            1       0            0           0   \n",
       "3          0             0            0       0            0           0   \n",
       "4          0             0            1       0            0           0   \n",
       "\n",
       "   length^2    Height^2    Age^2     TL^2    Width^2  \n",
       "0   3481.00  116.899344  4019.56  4624.00  55.950400  \n",
       "1    484.00   40.640625   576.00   650.25  14.630625  \n",
       "2   1376.41  123.988225  1600.00  1806.25  43.956900  \n",
       "3    538.24  132.710400   645.16   900.00  16.160400  \n",
       "4   1332.25  124.023860  1521.00  1713.96  36.036009  "
      ]
     },
     "execution_count": 52,
     "metadata": {},
     "output_type": "execute_result"
    }
   ],
   "source": [
    "df.head()"
   ]
  },
  {
   "cell_type": "code",
   "execution_count": 53,
   "metadata": {},
   "outputs": [
    {
     "data": {
      "text/plain": [
       "<matplotlib.collections.PathCollection at 0x1366eb340>"
      ]
     },
     "execution_count": 53,
     "metadata": {},
     "output_type": "execute_result"
    },
    {
     "data": {
      "image/png": "[encoded data removed]",
      "text/plain": [
       "<Figure size 640x480 with 1 Axes>"
      ]
     },
     "metadata": {},
     "output_type": "display_data"
    }
   ],
   "source": [
    "plt.scatter(df['Width'],df['Weight'])"
   ]
  },
  {
   "cell_type": "code",
   "execution_count": 54,
   "metadata": {},
   "outputs": [
    {
     "data": {
      "text/plain": [
       "<matplotlib.collections.PathCollection at 0x13676f2b0>"
      ]
     },
     "execution_count": 54,
     "metadata": {},
     "output_type": "execute_result"
    },
    {
     "data": {
      "image/png": "[encoded data removed]",
      "text/plain": [
       "<Figure size 640x480 with 1 Axes>"
      ]
     },
     "metadata": {},
     "output_type": "display_data"
    }
   ],
   "source": [
    "plt.scatter(df['Age'],df['Weight'])"
   ]
  },
  {
   "cell_type": "code",
   "execution_count": 55,
   "metadata": {},
   "outputs": [
    {
     "data": {
      "text/plain": [
       "<matplotlib.collections.PathCollection at 0x1367e91f0>"
      ]
     },
     "execution_count": 55,
     "metadata": {},
     "output_type": "execute_result"
    },
    {
     "data": {
      "image/png": "[encoded data removed]",
      "text/plain": [
       "<Figure size 640x480 with 1 Axes>"
      ]
     },
     "metadata": {},
     "output_type": "display_data"
    }
   ],
   "source": [
    "plt.scatter(df['Height'],df['Weight'])"
   ]
  },
  {
   "cell_type": "code",
   "execution_count": 56,
   "metadata": {},
   "outputs": [
    {
     "data": {
      "text/plain": [
       "<matplotlib.collections.PathCollection at 0x13685f8e0>"
      ]
     },
     "execution_count": 56,
     "metadata": {},
     "output_type": "execute_result"
    },
    {
     "data": {
      "image/png": "[encoded data removed]",
      "text/plain": [
       "<Figure size 640x480 with 1 Axes>"
      ]
     },
     "metadata": {},
     "output_type": "display_data"
    }
   ],
   "source": [
    "plt.scatter(df['Age'],df['Weight'])"
   ]
  },
  {
   "cell_type": "code",
   "execution_count": 57,
   "metadata": {},
   "outputs": [
    {
     "data": {
      "text/plain": [
       "<matplotlib.collections.PathCollection at 0x1368d9c40>"
      ]
     },
     "execution_count": 57,
     "metadata": {},
     "output_type": "execute_result"
    },
    {
     "data": {
      "image/png": "[encoded data removed]",
      "text/plain": [
       "<Figure size 640x480 with 1 Axes>"
      ]
     },
     "metadata": {},
     "output_type": "display_data"
    }
   ],
   "source": [
    "plt.scatter(df['TailLength'],df['Weight'])"
   ]
  },
  {
   "cell_type": "code",
   "execution_count": 58,
   "metadata": {},
   "outputs": [],
   "source": [
    "from sklearn.model_selection import train_test_split\n",
    "X = df.iloc[:, 1:]\n",
    "y = df.iloc[:, 0]\n",
    " \n",
    "# split the dataset\n",
    "x_train, x_test, y_train, y_test = train_test_split(\n",
    "    X, y, test_size=0.3, random_state=0)\n",
    "x_train=x_train.to_numpy()\n",
    "y_train=y_train.to_numpy()\n",
    "\n"
   ]
  },
  {
   "cell_type": "code",
   "execution_count": 59,
   "metadata": {},
   "outputs": [
    {
     "name": "stdout",
     "output_type": "stream",
     "text": [
      "     Length   Age  TailLength   Height   Width  Gender  Completeness  \\\n",
      "7      17.5  18.8        21.2   5.5756  2.9044       0         0.605   \n",
      "40     22.0  23.4        26.7   6.9153  3.6312       0         0.061   \n",
      "95     25.0  26.5        28.0   7.1680  4.1440       1         0.330   \n",
      "45     20.5  22.0        24.3   6.6339  3.5478       1         0.840   \n",
      "110    21.1  22.5        25.0   6.4000  3.8000       1         0.477   \n",
      "120    20.5  22.5        24.0   5.8560  3.6240       1         0.204   \n",
      "59     27.8  30.0        31.6   7.6156  4.7716       0         0.326   \n",
      "131    32.7  36.0        41.5  16.5170  5.8515       1         0.996   \n",
      "33     19.4  21.0        23.7   6.1146  3.2943       1         0.889   \n",
      "83     31.9  35.0        40.5  16.2405  5.5890       0         0.255   \n",
      "128    27.6  30.0        35.0  12.6700  4.6900       1         0.581   \n",
      "134    34.6  37.0        39.3  10.5717  6.3666       1         0.307   \n",
      "60     19.0  20.7        23.2   9.3960  3.4104       1         0.561   \n",
      "126    37.0  40.0        42.4  12.3808  7.4624       1         0.270   \n",
      "62     34.5  37.0        39.4  10.8350  6.2646       1         0.435   \n",
      "37     18.6  20.0        22.2   6.2160  3.5742       0         0.635   \n",
      "44     19.8  21.5        24.1   9.7364  3.1571       0         0.631   \n",
      "142    18.4  20.0        22.4   8.8928  3.2928       1         0.797   \n",
      "85     25.4  27.5        28.9   7.0516  4.3350       1         0.700   \n",
      "26     48.3  51.7        55.1   8.9262  6.1712       1         0.477   \n",
      "61     42.0  45.0        48.0   6.9600  4.8960       1         0.485   \n",
      "54     28.5  31.0        34.0  10.7440  6.5620       0         0.308   \n",
      "86     20.7  22.7        24.2   5.9532  3.6300       1         0.353   \n",
      "144    31.5  34.5        39.7  15.5227  5.2801       1         0.591   \n",
      "63     21.0  22.5        25.0   6.5500  3.3250       0         0.031   \n",
      "8      24.1  26.5        29.3   8.1454  4.2485       1         0.530   \n",
      "24     16.2  18.0        19.2   5.2224  3.3216       0         0.394   \n",
      "56     31.8  35.0        40.9  16.3600  6.0532       1         0.561   \n",
      "119    29.5  32.0        37.3  13.9129  5.0728       0         0.970   \n",
      "148    20.0  22.0        23.5   6.1100  3.4075       1         0.841   \n",
      "19     26.5  29.0        34.0  12.4440  5.1340       1         0.213   \n",
      "90     37.4  41.0        45.9  18.6354  6.7473       0         0.825   \n",
      "143    29.4  32.0        37.2  14.9544  5.1708       0         0.413   \n",
      "130    19.0  21.0        22.5   5.6925  3.6675       1         0.063   \n",
      "16     31.0  33.5        38.7  14.4738  5.7276       1         0.456   \n",
      "96     28.7  31.0        36.2  14.3714  4.8146       1         0.246   \n",
      "107    19.0  20.7        23.2   8.5376  3.2944       0         0.411   \n",
      "22     33.5  37.0        42.6  18.9570  6.6030       0         0.810   \n",
      "113     7.5   8.4         8.8   2.1120  1.4080       0         0.950   \n",
      "89     30.4  33.0        38.3  14.8604  5.2854       1         0.184   \n",
      "109    10.4  11.0        12.0   2.1960  1.3800       1         0.918   \n",
      "74     19.0  21.0        22.5   5.9175  3.3075       0         0.842   \n",
      "97     12.9  14.1        16.2   4.1472  2.2680       0         0.058   \n",
      "27     41.1  44.0        46.6  12.4888  7.5958       1         0.016   \n",
      "157    23.0  25.0        28.0  11.0880  4.1440       0         0.341   \n",
      "100    28.5  30.7        36.2  14.2266  4.9594       1         0.971   \n",
      "51     52.0  56.0        59.7  10.6863  6.9849       0         0.561   \n",
      "101    34.0  36.0        38.3  10.6091  6.7408       1         0.803   \n",
      "\n",
      "     iguanadon  Plateosaurus  Pterodactyl  Raptor  Stegosaurus  Vulcanodon  \\\n",
      "7            0             0            0       1            0           0   \n",
      "40           0             0            0       1            0           0   \n",
      "95           0             0            1       0            0           0   \n",
      "45           0             0            0       1            0           0   \n",
      "110          0             0            0       1            0           0   \n",
      "120          0             0            1       0            0           0   \n",
      "59           0             0            1       0            0           0   \n",
      "131          0             0            0       0            0           0   \n",
      "33           0             0            0       1            0           0   \n",
      "83           0             0            0       0            0           0   \n",
      "128          0             0            0       0            0           0   \n",
      "134          0             0            1       0            0           0   \n",
      "60           0             1            0       0            0           0   \n",
      "126          0             0            1       0            0           0   \n",
      "62           0             0            1       0            0           0   \n",
      "37           0             0            0       1            0           0   \n",
      "44           0             1            0       0            0           0   \n",
      "142          0             1            0       0            0           0   \n",
      "85           0             0            1       0            0           0   \n",
      "26           1             0            0       0            0           0   \n",
      "61           1             0            0       0            0           0   \n",
      "54           0             0            0       0            0           1   \n",
      "86           0             0            1       0            0           0   \n",
      "144          0             0            0       0            0           0   \n",
      "63           0             0            0       1            0           0   \n",
      "8            0             0            0       0            0           1   \n",
      "24           0             0            1       0            0           0   \n",
      "56           0             0            0       0            0           0   \n",
      "119          0             0            0       0            0           0   \n",
      "148          0             0            1       0            0           0   \n",
      "19           0             0            0       0            0           0   \n",
      "90           0             0            0       0            0           0   \n",
      "143          0             0            0       0            0           0   \n",
      "130          0             0            1       0            0           0   \n",
      "16           0             0            0       0            0           0   \n",
      "96           0             0            0       0            0           0   \n",
      "107          0             1            0       0            0           0   \n",
      "22           0             0            0       0            0           0   \n",
      "113          0             0            1       0            0           0   \n",
      "89           0             0            0       0            0           0   \n",
      "109          0             0            0       0            1           0   \n",
      "74           0             0            1       0            0           0   \n",
      "97           0             0            0       1            0           0   \n",
      "27           0             0            1       0            0           0   \n",
      "157          0             1            0       0            0           0   \n",
      "100          0             0            0       0            0           0   \n",
      "51           1             0            0       0            0           0   \n",
      "101          0             0            1       0            0           0   \n",
      "\n",
      "     length^2    Height^2    Age^2     TL^2    Width^2  \n",
      "7      306.25   31.087315   353.44   449.44   8.435539  \n",
      "40     484.00   47.821374   547.56   712.89  13.185613  \n",
      "95     625.00   51.380224   702.25   784.00  17.172736  \n",
      "45     420.25   44.008629   484.00   590.49  12.586885  \n",
      "110    445.21   40.960000   506.25   625.00  14.440000  \n",
      "120    420.25   34.292736   506.25   576.00  13.133376  \n",
      "59     772.84   57.997363   900.00   998.56  22.768167  \n",
      "131   1069.29  272.811289  1296.00  1722.25  34.240052  \n",
      "33     376.36   37.388333   441.00   561.69  10.852412  \n",
      "83    1017.61  263.753840  1225.00  1640.25  31.236921  \n",
      "128    761.76  160.528900   900.00  1225.00  21.996100  \n",
      "134   1197.16  111.760841  1369.00  1544.49  40.533596  \n",
      "60     361.00   88.284816   428.49   538.24  11.630828  \n",
      "126   1369.00  153.284209  1600.00  1797.76  55.687414  \n",
      "62    1190.25  117.397225  1369.00  1552.36  39.245213  \n",
      "37     345.96   38.638656   400.00   492.84  12.774906  \n",
      "44     392.04   94.797485   462.25   580.81   9.967280  \n",
      "142    338.56   79.081892   400.00   501.76  10.842532  \n",
      "85     645.16   49.725063   756.25   835.21  18.792225  \n",
      "26    2332.89   79.677046  2672.89  3036.01  38.083709  \n",
      "61    1764.00   48.441600  2025.00  2304.00  23.970816  \n",
      "54     812.25  115.433536   961.00  1156.00  43.059844  \n",
      "86     428.49   35.440590   515.29   585.64  13.176900  \n",
      "144    992.25  240.954215  1190.25  1576.09  27.879456  \n",
      "63     441.00   42.902500   506.25   625.00  11.055625  \n",
      "8      580.81   66.347541   702.25   858.49  18.049752  \n",
      "24     262.44   27.273462   324.00   368.64  11.033027  \n",
      "56    1011.24  267.649600  1225.00  1672.81  36.641230  \n",
      "119    870.25  193.568786  1024.00  1391.29  25.733300  \n",
      "148    400.00   37.332100   484.00   552.25  11.611056  \n",
      "19     702.25  154.853136   841.00  1156.00  26.357956  \n",
      "90    1398.76  347.278133  1681.00  2106.81  45.526057  \n",
      "143    864.36  223.634079  1024.00  1383.84  26.737173  \n",
      "130    361.00   32.404556   441.00   506.25  13.450556  \n",
      "16     961.00  209.490886  1122.25  1497.69  32.805402  \n",
      "96     823.69  206.537138   961.00  1310.44  23.180373  \n",
      "107    361.00   72.890614   428.49   538.24  10.853071  \n",
      "22    1122.25  359.367849  1369.00  1814.76  43.599609  \n",
      "113     56.25    4.460544    70.56    77.44   1.982464  \n",
      "89     924.16  220.831488  1089.00  1466.89  27.935453  \n",
      "109    108.16    4.822416   121.00   144.00   1.904400  \n",
      "74     361.00   35.016806   441.00   506.25  10.939556  \n",
      "97     166.41   17.199268   198.81   262.44   5.143824  \n",
      "27    1689.21  155.970125  1936.00  2171.56  57.696178  \n",
      "157    529.00  122.943744   625.00   784.00  17.172736  \n",
      "100    812.25  202.396148   942.49  1310.44  24.595648  \n",
      "51    2704.00  114.197008  3136.00  3564.09  48.788828  \n",
      "101   1156.00  112.553003  1296.00  1466.89  45.438385  \n"
     ]
    }
   ],
   "source": [
    "print(x_test)"
   ]
  },
  {
   "cell_type": "code",
   "execution_count": 60,
   "metadata": {},
   "outputs": [],
   "source": [
    "def zscore_normalise_features(x):\n",
    "    mu=np.mean(x,axis=0)\n",
    "    sd=np.std(x,axis=0)\n",
    "    x_norm=(x-mu)/sd\n",
    "    return mu,sd,x_norm\n",
    "mu,sd,x_norm_train=zscore_normalise_features(x_train)\n"
   ]
  },
  {
   "cell_type": "code",
   "execution_count": 61,
   "metadata": {},
   "outputs": [],
   "source": [
    "def compute_cost(x,y,w,b):\n",
    "    m,n=np.shape(x)\n",
    "    cost=0\n",
    "    for i in range (m):\n",
    "        cost=cost+ (np.dot(x[i],w)+b-y[i])**2\n",
    "    cost/=(2*m)\n",
    "    return cost"
   ]
  },
  {
   "cell_type": "code",
   "execution_count": 62,
   "metadata": {},
   "outputs": [
    {
     "data": {
      "text/plain": [
       "(array([-338.13928373, -338.90050781, -340.18419403, -266.08303232,\n",
       "        -322.42992604,  -32.65203895,  -12.27382897, -109.47107763,\n",
       "          60.76671464,    5.66376958,   76.11443569,  138.55241489,\n",
       "         -39.11311323, -339.0138906 , -247.85005383, -341.25093477,\n",
       "        -345.61727226, -331.43336285]),\n",
       " -391.70540540540543)"
      ]
     },
     "execution_count": 62,
     "metadata": {},
     "output_type": "execute_result"
    }
   ],
   "source": [
    "def compute_gradient(x,y,w,b):\n",
    "    m,n=np.shape(x)\n",
    "    dj_dw=np.zeros((n,))\n",
    "    dj_db=0\n",
    "    for i in range(m):\n",
    "        err=(np.dot(w,x[i])+b-y[i])\n",
    "        dj_db=dj_db+err\n",
    "        for j in range (n):\n",
    "            dj_dw[j]=dj_dw[j]+err*x[i,j]\n",
    "    dj_dw/=m\n",
    "    dj_db/=m\n",
    "    return dj_dw,dj_db\n",
    "m,n=np.shape(x_train)\n",
    "w=np.zeros((n,))\n",
    "b=0\n",
    "compute_gradient(x_norm_train,y_train,w,b)"
   ]
  },
  {
   "cell_type": "code",
   "execution_count": 63,
   "metadata": {},
   "outputs": [
    {
     "name": "stdout",
     "output_type": "stream",
     "text": [
      "[ 29.3883743   28.98894977  26.98851443  17.7138873   28.06354747\n",
      "  -5.8925583   -2.16560457 -47.40537139  10.41141389   7.44423878\n",
      "  -8.18680254  53.5211348    9.65034321  70.44737414  34.76830007\n",
      "  70.84340808  68.52868027  63.73523598]\n",
      "384.8161116499627\n",
      "[122280.49287487043, 105884.87813203632, 93898.43196696327, 84937.84793973579, 78063.07602257784, 72634.91219611882, 68218.35710330908, 64517.0335010239, 61328.68017967016, 58514.94837654762, 55980.90388652916, 53661.11549825829, 51510.21295888488, 49496.47801391839, 47597.493747438464, 45797.190741398656, 44083.84117264568, 42448.69623586548, 40885.06018156903, 39387.66069351932, 37952.220412835326, 36575.16500914967, 35253.423959678636, 33984.294285138836, 32765.34705164557, 31594.362935326943, 30469.287548925597, 29388.200217283018, 28349.29191605973, 27350.84946394278, 26391.243992332576, 25468.922350200573, 24582.400531891468, 23730.258507556056, 22911.136034042953, 22123.72915859061, 21366.787218989033, 20639.110205903926, 19939.546395190057, 19266.990186655275, 18620.380105210977, 17998.696933598036, 17400.96195491016, 16826.23528930138, 16273.614313483748, 15742.232154516532, 15231.256251385623, 14739.886979257179, 14267.356332258756, 13812.926661326997, 13375.889464152762, 12955.564224613885, 12551.297299354163, 12162.460849372592, 11788.451814648557, 11428.690929960563, 11082.621780164824, 10749.709893295227, 10429.441869928027, 10121.32454732962, 9824.884196972804, 9539.665754070274, 9265.232077831572, 9001.163241205526, 8747.05584892132, 8502.522382691177, 8267.190572483927, 8040.702792823978, 7822.715483112396, 7612.898591007976, 7410.935037945073, 7216.520205902361, 7029.361444572659, 6849.177598118221, 6675.698550728707, 6508.6647902308305, 6347.826989028842, 6192.945601683937, 6043.790478468618, 5900.140494258834, 5761.783192152074, 5628.514441224361, 5500.138107862657, 5376.465740131634, 5257.316264655734, 5142.515695517882, 5031.89685469661, 4925.299103582164, 4822.568085130736, 4723.555476233542, 4628.118749894463, 4536.120946826105, 4447.430456089818, 4361.920804420166, 4279.47045388866, 4199.96260757539, 4123.285022930384, 4049.329832519272, 3977.993371859991, 3909.176014068887, 3842.7820110460084, 3778.7193409398665, 3716.8995616426155, 3657.237670076176, 3599.6519670397256, 3544.0639273978113, 3490.398075397339, 3438.581864910023, 3388.5455644049803, 3340.222146464007, 3293.5471816593854, 3248.458736621397, 3204.8972761294704, 3162.805569067545, 3122.1285980905873, 3082.8134728552236, 3044.8093466733517, 3008.067336453164, 2972.5404457974305, 2938.1834911340434, 2904.953030758761, 2872.8072966749255, 2841.7061291194505, 2811.6109136687514, 2782.4845208226184, 2754.2912479678907, 2726.9967636279202, 2700.568053907334, 2674.9733710452997, 2650.1821839939694, 2626.1651309419617, 2602.893973706045, 2580.341553917169, 2558.4817509299187, 2537.289441387281, 2516.7404603753616, 2496.8115641051895, 2477.480394061305, 2458.7254425592178, 2440.526019656079, 2422.862221361106, 2405.714899094512, 2389.065630345589, 2372.896690482646, 2357.1910256693327, 2341.932226843693, 2327.104504718006, 2312.6926657591753, 2298.6820891109405, 2285.0587044208046, 2271.8089705359935, 2258.919855034159, 2246.378814555949, 2234.1737759078187, 2222.2931179047177, 2210.7256539235227, 2199.460615139184, 2188.487634416716, 2177.796730833172, 2167.3782948048215, 2157.2230737956615, 2147.322158584421, 2137.666970068028, 2128.2492465804617, 2119.061031706675, 2110.0946625721385, 2101.3427585892823, 2092.7982106428512, 2084.454170696942, 2076.3040418071214, 2068.3414685217035, 2060.560327656893, 2052.954719431114, 2045.518958944379, 2038.247567989193, 2031.1352671799252, 2024.1769683881598, 2017.3677674720368, 2010.702937288001, 2004.1779209739095, 1997.7883254928267, 1991.5299154273182, 1985.3986070143585, 1979.3904624114962, 1973.5016841851261, 1967.72861001224, 1962.0677075872468, 1956.5155697258278, 1951.0689096581486, 1945.7245565039657, 1940.479450922533, 1935.3306409304735, 1930.275277881032, 1925.3106125983911, 1920.433991661006, 1915.6428538281173, 1910.9347266038553, 1906.3072229335553, 1901.7580380271038, 1897.284946304404]\n"
     ]
    }
   ],
   "source": [
    "def gradient_descent(x,y,w,b,alpha,num_iters):\n",
    "    j_history=[]\n",
    "    for i in range(num_iters):\n",
    "        dj_dw,dj_db=compute_gradient(x,y,w,b)\n",
    "        w=w-alpha*dj_dw\n",
    "        b=b-alpha*dj_db\n",
    "        j_history.append(compute_cost(x,y,w,b))\n",
    "    return w,b,j_history  \n",
    "b=0\n",
    "num_iters=200\n",
    "w_fin,b_fin,j_hist=gradient_descent(x_norm_train,y_train,w,b,0.02,num_iters)\n",
    "print(w_fin)\n",
    "print(b_fin)\n",
    "print(j_hist)"
   ]
  },
  {
   "cell_type": "code",
   "execution_count": 64,
   "metadata": {},
   "outputs": [
    {
     "name": "stdout",
     "output_type": "stream",
     "text": [
      "(200,)\n",
      "(200,)\n"
     ]
    },
    {
     "data": {
      "text/plain": [
       "<matplotlib.collections.PathCollection at 0x136966190>"
      ]
     },
     "execution_count": 64,
     "metadata": {},
     "output_type": "execute_result"
    },
    {
     "data": {
      "image/png": "[encoded data removed]",
      "text/plain": [
       "<Figure size 640x480 with 1 Axes>"
      ]
     },
     "metadata": {},
     "output_type": "display_data"
    }
   ],
   "source": [
    "iters=np.arange(num_iters)\n",
    "print(np.shape(iters))\n",
    "j_hist=np.array(j_hist)\n",
    "print(np.shape(j_hist))\n",
    "plt.scatter(iters,j_hist,color='red',marker='x')"
   ]
  },
  {
   "cell_type": "code",
   "execution_count": 65,
   "metadata": {},
   "outputs": [
    {
     "name": "stdout",
     "output_type": "stream",
     "text": [
      "7        78.0\n",
      "40      161.0\n",
      "95      218.0\n",
      "45      145.0\n",
      "110     160.0\n",
      "120     130.0\n",
      "59      320.0\n",
      "131     714.0\n",
      "33      120.0\n",
      "83      700.0\n",
      "128     390.0\n",
      "134     690.0\n",
      "60      170.0\n",
      "126    1015.0\n",
      "62      700.0\n",
      "37      120.0\n",
      "44      145.0\n",
      "142     150.0\n",
      "85      265.0\n",
      "26      950.0\n",
      "61      500.0\n",
      "54      540.0\n",
      "86      145.0\n",
      "144     620.0\n",
      "63      140.0\n",
      "8       270.0\n",
      "24      100.0\n",
      "56      725.0\n",
      "119     340.0\n",
      "148     120.0\n",
      "19      430.0\n",
      "90      975.0\n",
      "143     600.0\n",
      "130     125.0\n",
      "16      650.0\n",
      "96      500.0\n",
      "107     140.0\n",
      "22     1000.0\n",
      "113       5.9\n",
      "89      700.0\n",
      "109       9.7\n",
      "74      115.0\n",
      "97       40.0\n",
      "27     1000.0\n",
      "157     273.0\n",
      "100     500.0\n",
      "51     1250.0\n",
      "101     700.0\n",
      "Name: Weight, dtype: float64\n"
     ]
    }
   ],
   "source": [
    "print(y_test)"
   ]
  },
  {
   "cell_type": "code",
   "execution_count": 66,
   "metadata": {},
   "outputs": [
    {
     "name": "stdout",
     "output_type": "stream",
     "text": [
      "[   3.0901098   149.51304741  261.01972447   87.81474824  112.58707255\n",
      "  132.5513666   389.65895168  732.77348323   52.64485205  702.42985659\n",
      "  444.56340072  705.42707673  159.80705629  894.87145227  700.77699936\n",
      "   58.30610676  181.13959857  133.10870552  284.13211472 1006.63816915\n",
      "  666.78250312  608.13315256  136.6652064   640.84345296  107.32097683\n",
      "  312.89228665   35.92254778  722.29013062  547.72465051  109.70356191\n",
      "  442.82533807  989.91329388  573.06752757  103.70160796  628.55361017\n",
      "  509.05753514  157.78191471  870.92237233 -204.54669882  596.29798495\n",
      "  -26.69513927   95.19814957 -111.11360556 1040.89086732  321.58415871\n",
      "  504.40889447 1259.92031224  702.93665661]\n"
     ]
    }
   ],
   "source": [
    "m,n=np.shape(x_test)\n",
    "y_pred=np.zeros((m,))\n",
    "#x_test_norm=zscore_normalise_features(x_test)[2]\n",
    "x_test_norm=(x_test-mu)/sd\n",
    "x_test_norm=x_test_norm.to_numpy()\n",
    "for i in range(m):\n",
    "    y_pred[i]+=(np.dot(x_test_norm[i],w_fin)+b_fin)\n",
    "print(y_pred)"
   ]
  },
  {
   "cell_type": "code",
   "execution_count": 67,
   "metadata": {},
   "outputs": [
    {
     "name": "stdout",
     "output_type": "stream",
     "text": [
      "The accuracy of our model is 95.0%\n"
     ]
    }
   ],
   "source": [
    "from sklearn.metrics import r2_score\n",
    "score = r2_score(y_test, y_pred)\n",
    "print(\"The accuracy of our model is {}%\".format(round(score, 2) *100))"
   ]
  }
 ],
 "metadata": {
  "kernelspec": {
   "display_name": "Python 3",
   "language": "python",
   "name": "python3"
  },
  "language_info": {
   "codemirror_mode": {
    "name": "ipython",
    "version": 3
   },
   "file_extension": ".py",
   "mimetype": "text/x-python",
   "name": "python",
   "nbconvert_exporter": "python",
   "pygments_lexer": "ipython3",
   "version": "3.9.6"
  }
 },
 "nbformat": 4,
 "nbformat_minor": 2
}
