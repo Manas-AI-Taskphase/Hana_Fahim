{
 "cells": [
  {
   "cell_type": "code",
   "execution_count": 1,
   "metadata": {},
   "outputs": [],
   "source": [
    "import numpy as np\n",
    "import pandas as pd \n",
    "import matplotlib.pyplot as plt "
   ]
  },
  {
   "cell_type": "code",
   "execution_count": 2,
   "metadata": {},
   "outputs": [],
   "source": [
    "df=pd.read_csv('train.csv')\n",
    "x_train=df[['OverallQual','GrLivArea','GarageCars','GarageArea','TotalBsmtSF','1stFlrSF','FullBath','TotRmsAbvGrd','YearBuilt','YearRemodAdd']]\n",
    "y_train=df[['SalePrice']]\n",
    "x_train=x_train.to_numpy()\n",
    "y_train=y_train.to_numpy()"
   ]
  },
  {
   "cell_type": "code",
   "execution_count": 3,
   "metadata": {},
   "outputs": [],
   "source": [
    "def zscore_normalise_features(x):\n",
    "    mu=np.mean(x,axis=0)\n",
    "    sd=np.std(x,axis=0)\n",
    "    x_norm=(x-mu)/sd\n",
    "    return mu,sd,x_norm\n",
    "mu,sd,x_norm_train=zscore_normalise_features(x_train)"
   ]
  },
  {
   "cell_type": "code",
   "execution_count": 4,
   "metadata": {},
   "outputs": [],
   "source": [
    "def compute_cost(x,y,w,b):\n",
    "    m,n=np.shape(x)\n",
    "    cost=0\n",
    "    for i in range (m):\n",
    "        cost=cost+ (np.dot(x[i],w)+b-y[i])**2\n",
    "    cost/=(2*m)\n",
    "    return cost"
   ]
  },
  {
   "cell_type": "code",
   "execution_count": 5,
   "metadata": {},
   "outputs": [
    {
     "name": "stderr",
     "output_type": "stream",
     "text": [
      "/var/folders/hq/31k7qhxj16315fvc4cc2j2b00000gn/T/ipykernel_903/869326222.py:9: DeprecationWarning: Conversion of an array with ndim > 0 to a scalar is deprecated, and will error in future. Ensure you extract a single element from your array before performing this operation. (Deprecated NumPy 1.25.)\n",
      "  dj_dw[j]=dj_dw[j]+err*x[i,j]\n"
     ]
    },
    {
     "data": {
      "text/plain": [
       "(array([-62867.30139769, -56525.60173279, -51397.10257495, -51362.78431463,\n",
       "        -48588.81298304, -48192.37248322, -44750.2165107 , -42357.77345397,\n",
       "        -41989.28438221, -39745.92960913]),\n",
       " array([-181223.59160959]))"
      ]
     },
     "execution_count": 5,
     "metadata": {},
     "output_type": "execute_result"
    }
   ],
   "source": [
    "def compute_gradient(x,y,w,b):\n",
    "    m,n=np.shape(x)\n",
    "    dj_dw=np.zeros((n,))\n",
    "    dj_db=0\n",
    "    for i in range(m):\n",
    "        err=(np.dot(w,x[i])+b-y[i])\n",
    "        dj_db=dj_db+err\n",
    "        for j in range (n):\n",
    "            dj_dw[j]=dj_dw[j]+err*x[i,j]\n",
    "    dj_dw/=m\n",
    "    dj_db/=m\n",
    "    return dj_dw,dj_db\n",
    "m,n=np.shape(x_train)\n",
    "w=np.zeros((n,))\n",
    "b=0\n",
    "compute_gradient(x_norm_train,y_train,w,b)"
   ]
  },
  {
   "cell_type": "code",
   "execution_count": 12,
   "metadata": {},
   "outputs": [
    {
     "name": "stderr",
     "output_type": "stream",
     "text": [
      "/var/folders/hq/31k7qhxj16315fvc4cc2j2b00000gn/T/ipykernel_903/869326222.py:9: DeprecationWarning: Conversion of an array with ndim > 0 to a scalar is deprecated, and will error in future. Ensure you extract a single element from your array before performing this operation. (Deprecated NumPy 1.25.)\n",
      "  dj_dw[j]=dj_dw[j]+err*x[i,j]\n"
     ]
    },
    {
     "name": "stdout",
     "output_type": "stream",
     "text": [
      "[27203.25134705 23603.45630598  7597.55977531  4549.57212402\n",
      "  7562.05902789  6190.85044797 -2812.3822549   2216.6952727\n",
      "  7203.51944936  6156.34231916]\n",
      "[181222.60564765]\n",
      "[array([1.84990428e+10]), array([1.75060199e+10]), array([1.66107184e+10]), array([1.57976343e+10]), array([1.50541938e+10]), array([1.43701765e+10]), array([1.37372526e+10]), array([1.31486122e+10]), array([1.25986681e+10]), array([1.20828177e+10]), array([1.15972522e+10]), array([1.1138803e+10]), array([1.07048193e+10]), array([1.02930693e+10]), array([9.90166113e+09]), array([9.52897932e+09]), array([9.17363369e+09]), array([8.83441834e+09]), array([8.51027862e+09]), array([8.20028452e+09]), array([7.90360927e+09]), array([7.61951198e+09]), array([7.34732368e+09]), array([7.08643602e+09]), array([6.83629202e+09]), array([6.59637864e+09]), array([6.36622068e+09]), array([6.14537577e+09]), array([5.93343031e+09]), array([5.72999606e+09]), array([5.53470737e+09]), array([5.34721883e+09]), array([5.16720333e+09]), array([4.99435042e+09]), array([4.82836489e+09]), array([4.66896561e+09]), array([4.51588446e+09]), array([4.36886547e+09]), array([4.22766402e+09]), array([4.09204615e+09]), array([3.96178795e+09]), array([3.83667497e+09]), array([3.71650179e+09]), array([3.6010715e+09]), array([3.49019529e+09]), array([3.38369212e+09]), array([3.2813883e+09]), array([3.18311716e+09]), array([3.0887188e+09]), array([2.99803971e+09]), array([2.91093257e+09]), array([2.82725596e+09]), array([2.74687408e+09]), array([2.66965657e+09]), array([2.59547827e+09]), array([2.52421899e+09]), array([2.4557633e+09]), array([2.39000039e+09]), array([2.32682383e+09]), array([2.2661314e+09]), array([2.20782496e+09]), array([2.15181024e+09]), array([2.09799672e+09]), array([2.04629745e+09]), array([1.99662894e+09]), array([1.94891098e+09]), array([1.90306657e+09]), array([1.85902173e+09]), array([1.81670542e+09]), array([1.77604941e+09]), array([1.73698817e+09]), array([1.69945876e+09]), array([1.66340072e+09]), array([1.628756e+09]), array([1.59546885e+09]), array([1.56348569e+09]), array([1.5327551e+09]), array([1.50322766e+09]), array([1.47485593e+09]), array([1.44759434e+09]), array([1.4213991e+09]), array([1.39622819e+09]), array([1.37204121e+09]), array([1.34879939e+09]), array([1.32646548e+09]), array([1.30500369e+09]), array([1.28437967e+09]), array([1.2645604e+09]), array([1.24551419e+09]), array([1.2272106e+09]), array([1.20962036e+09]), array([1.1927154e+09]), array([1.17646874e+09]), array([1.16085446e+09]), array([1.14584767e+09]), array([1.13142447e+09]), array([1.1175619e+09]), array([1.10423789e+09]), array([1.09143128e+09]), array([1.0791217e+09]), array([1.06728962e+09]), array([1.05591627e+09]), array([1.04498361e+09]), array([1.03447434e+09]), array([1.0243718e+09]), array([1.01466003e+09]), array([1.00532369e+09]), array([9.96348015e+08]), array([9.87718863e+08]), array([9.79422631e+08]), array([9.71446254e+08]), array([9.63777184e+08]), array([9.56403369e+08]), array([9.49313231e+08]), array([9.4249565e+08]), array([9.35939943e+08]), array([9.29635851e+08]), array([9.23573517e+08]), array([9.17743474e+08]), array([9.12136629e+08]), array([9.06744245e+08]), array([9.01557933e+08]), array([8.96569631e+08]), array([8.91771598e+08]), array([8.87156396e+08]), array([8.82716881e+08]), array([8.7844619e+08]), array([8.74337731e+08]), array([8.70385171e+08]), array([8.66582427e+08]), array([8.62923655e+08]), array([8.59403241e+08]), array([8.56015793e+08]), array([8.52756131e+08]), array([8.49619277e+08]), array([8.46600452e+08]), array([8.43695063e+08]), array([8.40898698e+08]), array([8.38207119e+08]), array([8.35616254e+08]), array([8.33122191e+08]), array([8.30721173e+08]), array([8.2840959e+08]), array([8.26183974e+08]), array([8.24040992e+08]), array([8.21977443e+08]), array([8.19990253e+08]), array([8.18076466e+08]), array([8.16233245e+08]), array([8.14457862e+08]), array([8.12747696e+08]), array([8.11100231e+08]), array([8.09513048e+08]), array([8.07983824e+08]), array([8.06510325e+08]), array([8.05090406e+08]), array([8.03722006e+08]), array([8.02403146e+08]), array([8.01131922e+08]), array([7.99906506e+08]), array([7.98725141e+08]), array([7.9758614e+08]), array([7.9648788e+08]), array([7.95428803e+08]), array([7.94407411e+08]), array([7.93422266e+08]), array([7.92471984e+08]), array([7.91555237e+08]), array([7.90670747e+08]), array([7.89817288e+08]), array([7.88993681e+08]), array([7.88198792e+08]), array([7.87431532e+08]), array([7.86690855e+08]), array([7.85975755e+08]), array([7.85285265e+08]), array([7.84618456e+08]), array([7.83974436e+08]), array([7.83352345e+08]), array([7.8275136e+08]), array([7.82170687e+08]), array([7.81609565e+08]), array([7.81067261e+08]), array([7.80543072e+08]), array([7.8003632e+08]), array([7.79546355e+08]), array([7.79072553e+08]), array([7.78614311e+08]), array([7.78171052e+08]), array([7.77742221e+08]), array([7.77327284e+08]), array([7.76925727e+08]), array([7.76537057e+08]), array([7.76160799e+08]), array([7.75796497e+08]), array([7.75443713e+08]), array([7.75102025e+08]), array([7.74771027e+08]), array([7.7445033e+08]), array([7.74139558e+08]), array([7.73838351e+08]), array([7.73546362e+08]), array([7.73263259e+08]), array([7.72988719e+08]), array([7.72722435e+08]), array([7.72464111e+08]), array([7.7221346e+08]), array([7.71970209e+08]), array([7.71734094e+08]), array([7.7150486e+08]), array([7.71282265e+08]), array([7.71066072e+08]), array([7.70856056e+08]), array([7.70651999e+08]), array([7.70453693e+08]), array([7.70260935e+08]), array([7.70073534e+08]), array([7.69891301e+08]), array([7.69714058e+08]), array([7.69541632e+08]), array([7.69373857e+08]), array([7.69210574e+08]), array([7.69051629e+08]), array([7.68896873e+08]), array([7.68746165e+08]), array([7.68599366e+08]), array([7.68456346e+08]), array([7.68316977e+08]), array([7.68181136e+08]), array([7.68048706e+08]), array([7.67919574e+08]), array([7.6779363e+08]), array([7.67670769e+08]), array([7.67550889e+08]), array([7.67433894e+08]), array([7.67319689e+08]), array([7.67208183e+08]), array([7.6709929e+08]), array([7.66992926e+08]), array([7.66889009e+08]), array([7.66787462e+08]), array([7.66688209e+08]), array([7.66591179e+08]), array([7.66496301e+08]), array([7.66403508e+08]), array([7.66312735e+08]), array([7.66223921e+08]), array([7.66137004e+08]), array([7.66051926e+08]), array([7.65968633e+08]), array([7.65887068e+08]), array([7.65807182e+08]), array([7.65728923e+08]), array([7.65652243e+08]), array([7.65577095e+08]), array([7.65503434e+08]), array([7.65431217e+08]), array([7.65360402e+08]), array([7.65290948e+08]), array([7.65222816e+08]), array([7.65155969e+08]), array([7.6509037e+08]), array([7.65025984e+08]), array([7.64962777e+08]), array([7.64900717e+08]), array([7.64839771e+08]), array([7.64779909e+08]), array([7.64721101e+08]), array([7.6466332e+08]), array([7.64606537e+08]), array([7.64550727e+08]), array([7.64495862e+08]), array([7.64441919e+08]), array([7.64388873e+08]), array([7.64336701e+08]), array([7.6428538e+08]), array([7.6423489e+08]), array([7.64185208e+08]), array([7.64136315e+08]), array([7.6408819e+08]), array([7.64040815e+08]), array([7.63994172e+08]), array([7.63948243e+08]), array([7.63903009e+08]), array([7.63858455e+08]), array([7.63814565e+08]), array([7.63771322e+08]), array([7.63728712e+08]), array([7.6368672e+08]), array([7.63645332e+08]), array([7.63604534e+08]), array([7.63564312e+08]), array([7.63524653e+08]), array([7.63485546e+08]), array([7.63446977e+08]), array([7.63408935e+08]), array([7.63371409e+08]), array([7.63334388e+08]), array([7.6329786e+08]), array([7.63261815e+08]), array([7.63226243e+08]), array([7.63191134e+08]), array([7.63156479e+08]), array([7.63122268e+08]), array([7.63088493e+08]), array([7.63055143e+08]), array([7.63022212e+08]), array([7.62989691e+08]), array([7.62957571e+08]), array([7.62925845e+08]), array([7.62894505e+08]), array([7.62863543e+08]), array([7.62832954e+08]), array([7.62802729e+08]), array([7.62772861e+08]), array([7.62743345e+08]), array([7.62714173e+08]), array([7.6268534e+08]), array([7.62656839e+08]), array([7.62628665e+08]), array([7.62600811e+08]), array([7.62573272e+08]), array([7.62546042e+08]), array([7.62519116e+08]), array([7.62492489e+08]), array([7.62466155e+08]), array([7.6244011e+08]), array([7.62414349e+08]), array([7.62388867e+08]), array([7.6236366e+08]), array([7.62338722e+08]), array([7.6231405e+08]), array([7.6228964e+08]), array([7.62265486e+08]), array([7.62241586e+08]), array([7.62217934e+08]), array([7.62194527e+08]), array([7.62171362e+08]), array([7.62148434e+08]), array([7.62125741e+08]), array([7.62103277e+08]), array([7.6208104e+08]), array([7.62059027e+08]), array([7.62037234e+08]), array([7.62015658e+08]), array([7.61994295e+08]), array([7.61973143e+08]), array([7.61952199e+08]), array([7.61931459e+08]), array([7.6191092e+08]), array([7.61890581e+08]), array([7.61870437e+08]), array([7.61850486e+08]), array([7.61830726e+08]), array([7.61811154e+08]), array([7.61791767e+08]), array([7.61772563e+08]), array([7.61753539e+08]), array([7.61734693e+08]), array([7.61716022e+08]), array([7.61697524e+08]), array([7.61679197e+08]), array([7.61661039e+08]), array([7.61643047e+08]), array([7.61625219e+08]), array([7.61607553e+08]), array([7.61590048e+08]), array([7.615727e+08]), array([7.61555508e+08]), array([7.6153847e+08]), array([7.61521584e+08]), array([7.61504848e+08]), array([7.6148826e+08]), array([7.61471819e+08]), array([7.61455522e+08]), array([7.61439368e+08]), array([7.61423355e+08]), array([7.61407482e+08]), array([7.61391746e+08]), array([7.61376146e+08]), array([7.61360681e+08]), array([7.61345348e+08]), array([7.61330147e+08]), array([7.61315075e+08]), array([7.61300132e+08]), array([7.61285315e+08]), array([7.61270623e+08]), array([7.61256055e+08]), array([7.6124161e+08]), array([7.61227285e+08]), array([7.6121308e+08]), array([7.61198993e+08]), array([7.61185023e+08]), array([7.61171168e+08]), array([7.61157428e+08]), array([7.611438e+08]), array([7.61130285e+08]), array([7.6111688e+08]), array([7.61103584e+08]), array([7.61090396e+08]), array([7.61077315e+08]), array([7.61064339e+08]), array([7.61051468e+08]), array([7.61038701e+08]), array([7.61026036e+08]), array([7.61013472e+08]), array([7.61001009e+08]), array([7.60988644e+08]), array([7.60976377e+08]), array([7.60964208e+08]), array([7.60952134e+08]), array([7.60940156e+08]), array([7.60928271e+08]), array([7.60916479e+08]), array([7.6090478e+08]), array([7.60893171e+08]), array([7.60881653e+08]), array([7.60870223e+08]), array([7.60858882e+08]), array([7.60847629e+08]), array([7.60836462e+08]), array([7.60825381e+08]), array([7.60814384e+08]), array([7.60803471e+08]), array([7.60792642e+08]), array([7.60781895e+08]), array([7.60771229e+08]), array([7.60760644e+08]), array([7.60750138e+08]), array([7.60739712e+08]), array([7.60729364e+08]), array([7.60719093e+08]), array([7.60708899e+08]), array([7.60698782e+08]), array([7.60688739e+08]), array([7.60678771e+08]), array([7.60668877e+08]), array([7.60659056e+08]), array([7.60649307e+08]), array([7.6063963e+08]), array([7.60630024e+08]), array([7.60620489e+08]), array([7.60611023e+08]), array([7.60601626e+08]), array([7.60592298e+08]), array([7.60583037e+08]), array([7.60573844e+08]), array([7.60564717e+08]), array([7.60555656e+08]), array([7.6054666e+08]), array([7.60537728e+08]), array([7.60528861e+08]), array([7.60520058e+08]), array([7.60511317e+08]), array([7.60502638e+08]), array([7.60494022e+08]), array([7.60485466e+08]), array([7.60476971e+08]), array([7.60468536e+08]), array([7.60460161e+08]), array([7.60451845e+08]), array([7.60443587e+08]), array([7.60435387e+08]), array([7.60427244e+08]), array([7.60419159e+08]), array([7.6041113e+08]), array([7.60403157e+08]), array([7.60395239e+08]), array([7.60387376e+08]), array([7.60379568e+08]), array([7.60371814e+08]), array([7.60364113e+08]), array([7.60356465e+08]), array([7.6034887e+08]), array([7.60341327e+08]), array([7.60333835e+08]), array([7.60326395e+08]), array([7.60319006e+08]), array([7.60311667e+08]), array([7.60304378e+08]), array([7.60297138e+08]), array([7.60289948e+08]), array([7.60282806e+08]), array([7.60275712e+08]), array([7.60268667e+08]), array([7.60261668e+08]), array([7.60254717e+08]), array([7.60247813e+08]), array([7.60240954e+08]), array([7.60234142e+08]), array([7.60227375e+08]), array([7.60220653e+08]), array([7.60213976e+08]), array([7.60207343e+08]), array([7.60200754e+08]), array([7.60194209e+08]), array([7.60187707e+08]), array([7.60181248e+08]), array([7.60174832e+08]), array([7.60168458e+08]), array([7.60162126e+08]), array([7.60155835e+08]), array([7.60149585e+08]), array([7.60143377e+08]), array([7.60137209e+08]), array([7.60131081e+08]), array([7.60124993e+08]), array([7.60118945e+08]), array([7.60112936e+08]), array([7.60106966e+08]), array([7.60101034e+08]), array([7.60095141e+08]), array([7.60089286e+08]), array([7.60083468e+08]), array([7.60077688e+08]), array([7.60071946e+08]), array([7.6006624e+08]), array([7.6006057e+08]), array([7.60054937e+08]), array([7.6004934e+08]), array([7.60043779e+08]), array([7.60038253e+08]), array([7.60032762e+08]), array([7.60027306e+08]), array([7.60021885e+08]), array([7.60016498e+08]), array([7.60011145e+08]), array([7.60005826e+08]), array([7.60000541e+08]), array([7.59995288e+08]), array([7.59990069e+08]), array([7.59984883e+08]), array([7.59979729e+08]), array([7.59974608e+08]), array([7.59969519e+08]), array([7.59964461e+08]), array([7.59959435e+08]), array([7.59954441e+08]), array([7.59949478e+08]), array([7.59944545e+08]), array([7.59939643e+08]), array([7.59934772e+08]), array([7.59929931e+08]), array([7.59925119e+08]), array([7.59920338e+08]), array([7.59915586e+08]), array([7.59910863e+08]), array([7.5990617e+08]), array([7.59901505e+08]), array([7.59896869e+08]), array([7.59892262e+08]), array([7.59887683e+08]), array([7.59883131e+08]), array([7.59878608e+08]), array([7.59874112e+08]), array([7.59869644e+08]), array([7.59865203e+08]), array([7.59860789e+08]), array([7.59856402e+08]), array([7.59852042e+08]), array([7.59847708e+08]), array([7.59843401e+08]), array([7.59839119e+08]), array([7.59834864e+08]), array([7.59830634e+08]), array([7.59826429e+08]), array([7.5982225e+08]), array([7.59818097e+08]), array([7.59813968e+08]), array([7.59809864e+08]), array([7.59805785e+08]), array([7.5980173e+08]), array([7.597977e+08]), array([7.59793693e+08]), array([7.59789711e+08]), array([7.59785752e+08]), array([7.59781817e+08]), array([7.59777906e+08]), array([7.59774018e+08]), array([7.59770153e+08]), array([7.59766311e+08]), array([7.59762492e+08]), array([7.59758695e+08]), array([7.59754921e+08]), array([7.59751169e+08]), array([7.5974744e+08]), array([7.59743733e+08]), array([7.59740047e+08]), array([7.59736383e+08]), array([7.59732741e+08]), array([7.59729121e+08]), array([7.59725521e+08]), array([7.59721943e+08]), array([7.59718386e+08]), array([7.5971485e+08]), array([7.59711334e+08]), array([7.59707839e+08]), array([7.59704365e+08]), array([7.5970091e+08]), array([7.59697477e+08])]\n"
     ]
    }
   ],
   "source": [
    "def gradient_descent(x,y,w,b,alpha,num_iters):\n",
    "    j_history=[]\n",
    "    for i in range(num_iters):\n",
    "        dj_dw,dj_db=compute_gradient(x,y,w,b)\n",
    "        w=w-alpha*dj_dw\n",
    "        b=b-alpha*dj_db\n",
    "        j_history.append(compute_cost(x,y,w,b))\n",
    "    return w,b,j_history  \n",
    "b=0\n",
    "num_iters=600\n",
    "w_fin,b_fin,j_hist=gradient_descent(x_norm_train,y_train,w,b,0.02,num_iters)\n",
    "print(w_fin)\n",
    "print(b_fin)\n",
    "print(j_hist)\n"
   ]
  },
  {
   "cell_type": "code",
   "execution_count": 13,
   "metadata": {},
   "outputs": [
    {
     "name": "stdout",
     "output_type": "stream",
     "text": [
      "(600,)\n",
      "(600, 1)\n"
     ]
    },
    {
     "data": {
      "text/plain": [
       "<matplotlib.collections.PathCollection at 0x1310afb80>"
      ]
     },
     "execution_count": 13,
     "metadata": {},
     "output_type": "execute_result"
    },
    {
     "data": {
      "image/png": "[encoded data removed]",
      "text/plain": [
       "<Figure size 640x480 with 1 Axes>"
      ]
     },
     "metadata": {},
     "output_type": "display_data"
    }
   ],
   "source": [
    "iters=np.arange(num_iters)\n",
    "print(np.shape(iters))\n",
    "j_hist=np.array(j_hist)\n",
    "print(np.shape(j_hist))\n",
    "plt.scatter(iters,j_hist,color='red',marker='x')"
   ]
  },
  {
   "cell_type": "code",
   "execution_count": 8,
   "metadata": {},
   "outputs": [
    {
     "name": "stdout",
     "output_type": "stream",
     "text": [
      "[272103.19836193 178673.51046691 179748.71521776 177372.73569779\n",
      "  74950.63828025 104161.76430719 113776.28229237 186085.56645243\n",
      " 212702.99775977 159210.8042599  217879.46456531 117253.52579793\n",
      " 177031.7118797  140197.06389469 285606.21100974 166559.61510284\n",
      " 205039.43430955 231523.57821518 146650.12669587 154945.03430118\n",
      " 236678.66081474 267771.35852692 197409.48345918 125177.80568132\n",
      " 243207.3366394  144682.36616612 210982.30383204  88187.53479708\n",
      " 137989.73732208 169504.91092482 280910.75128763 180722.21096821\n",
      " 177469.91132737 130065.18440542 148908.28721279 142621.90697574\n",
      "   9646.09460299 244748.56048952 359228.88705985 182370.61484516\n",
      " 133736.2393668  102444.95047859  63146.64768972  60191.95340364\n",
      " 152990.64061078 163040.00770838  83018.23013447 234326.26121642\n",
      " 103423.72422909 164686.84907319 124270.92621914 231166.08102125\n",
      " 254972.64423815 223110.74321577 121523.52121909 116543.86795213\n",
      " 213602.81952218 220717.72359906 224217.92119709  88564.19804022\n",
      " 179676.41454892 178430.42001253  92851.62221094 238886.65724155\n",
      " 147354.7014897  136078.21488042 184232.85786033 310122.18369814\n",
      " 172252.42326424 125147.20574616 293580.25380524 123808.75252845\n",
      " 214923.68493236 206523.62265609 212570.22735923 115877.75665682\n",
      " 157618.88943069 143766.42139629 108293.01094839 194440.41695098\n",
      " 313639.53447064 246568.94772749 157214.20295407 172565.33637636\n",
      " 299456.64274061 193457.29897519 126238.12869136  96725.21170492\n",
      " 250268.71641169 270205.50837035 192401.90919995 154218.60014617\n",
      " 139844.03241613 212598.32149526 202594.57406761 167867.22421202\n",
      " 180305.49188736 116728.31837209 198625.38520252 124242.53489789\n",
      " 299929.07888641 119439.99273477 144357.07201962 171981.61235291\n",
      " 103157.55500544 191340.37876537 210068.4109534  113707.17842284\n",
      " 141901.06053205 128746.09424039 136022.04793301 116785.55318945\n",
      " 140803.2472277  227688.59788134 189294.13187714 128150.14617366\n",
      " 180902.02865935 144409.90844009 240350.03432292 133343.37485857\n",
      " 149460.37114287 178983.12046163 147353.98851367 240216.15931902\n",
      " 196083.08579912 131076.02407923 122432.46912081 104066.4599367\n",
      " 165835.94891659 162787.33067106 295760.93278118 166082.03286653\n",
      "  65526.8508179  152244.10375049 306788.82919592 127411.98547588\n",
      " 238892.85428203 243410.36503559 111795.26738597 259137.62275996\n",
      " 115970.65906315 311224.82424123 114427.83670404 166615.57508878\n",
      " 257072.44281163  69829.04821915 145934.26384853 254082.78870172\n",
      " 283772.43064545 127529.43736665 306132.98272616 172132.24991106\n",
      " 320025.75906395 184595.31564727 135857.57935663 149406.6643148\n",
      " 225367.98428598 141760.37842694 246371.57179011  37573.13230771\n",
      " 193495.01735311 129021.05535126 238235.80265082 138559.97201454\n",
      "  93333.74832182 169351.06170373 216359.34797482 309462.47711826\n",
      " 165121.12217385 124813.7853724  115229.57646099  95486.44139979\n",
      " 137778.56118501  69229.49616376 330148.2067875  243298.6210806\n",
      " 247055.17540597 226724.75247701 237192.21632696 220171.99736749\n",
      " 154324.64669073  91510.23219347 125870.62161581 162011.01941271\n",
      "  50384.5497027  106896.63273769 212108.78398466 103393.19734416\n",
      " 229948.09742385 142834.73969047 130708.77850092 114373.79501964\n",
      " 374832.8803171  319024.65815264 247821.92899481 192323.01551556\n",
      " 225394.57930423 106539.04753781 197016.4547029  304993.09501857\n",
      " 220394.0357013  143590.08772276 188039.85250837 190196.32106349\n",
      "  96156.67424331 213580.13415872 219221.27110302 191294.80178157\n",
      " 230261.77662452 171386.52325525  80525.8778748  153370.72258083\n",
      " 288544.02183371 314405.6986855  155379.3237779  169564.36988149\n",
      "  -2385.51829814 262159.22433724  62349.57301252 107127.68233777\n",
      " 291194.55982571 116172.39687821 223537.36801017 252491.91242373\n",
      " 257361.60794694  41782.34086831 180061.67666277 212719.62660867\n",
      " 243081.8887076  268830.36043532 173000.6995525  201288.99696157\n",
      " 226081.29437156 353110.84599547 316997.68219702  84542.10282209\n",
      " 252771.44027512 210841.20939169  86400.42539575 178541.13251653\n",
      " 175699.97145752 186272.72652665 266643.71368676  49297.89213527\n",
      " 149620.89881583 243559.13553529 314842.13503669 149579.23149868\n",
      " 154729.09291637 140669.77097152 211621.15997442 135060.66746545\n",
      " 218603.0574498  122139.84820522 195212.70532148 320102.23761972\n",
      " 211318.50536795 154644.42174947  99992.30629709 263812.24127785\n",
      " 116327.99478493 180910.74803742  45906.76688202 107461.43901158\n",
      "  92177.03027474 181768.86218481 161099.50552985 254704.35765573\n",
      " 172305.49253136 133309.9717675  224137.63409491 159461.07683612\n",
      " 369890.5743203  147427.23282766 235819.77498596 122905.37250093\n",
      " 109922.55351948 153543.44892494 114775.87748233 317602.12125119\n",
      "  90804.81849133  69339.78483992 194188.07083096 119144.70209235\n",
      " 213859.19550591 293277.29016196 118063.02732954 183636.68910122\n",
      " 129696.7965359  154854.98327255 205155.71900549 181101.25953085]\n"
     ]
    }
   ],
   "source": [
    "df2=pd.read_csv('test.csv')\n",
    "x_test=df2[['OverallQual','GrLivArea','GarageCars','GarageArea','TotalBsmtSF','1stFlrSF','FullBath','TotRmsAbvGrd','YearBuilt','YearRemodAdd']]\n",
    "y_test=df2[[\"SalePrice\"]]\n",
    "m,n=np.shape(x_test)\n",
    "\n",
    "x_test=x_test.to_numpy()\n",
    "\n",
    "y_pred=np.zeros((m,))\n",
    "#x_test_norm=zscore_normalise_features(x_test)[2]\n",
    "x_test_norm=(x_test-mu)/sd\n",
    "for i in range(m):\n",
    "    y_pred[i]+=(np.dot(x_test_norm[i],w_fin)+b_fin[0])\n",
    "print(y_pred)"
   ]
  },
  {
   "cell_type": "code",
   "execution_count": 9,
   "metadata": {},
   "outputs": [
    {
     "name": "stdout",
     "output_type": "stream",
     "text": [
      "The accuracy of our model is 82.0%\n"
     ]
    }
   ],
   "source": [
    "from sklearn.metrics import r2_score\n",
    "score = r2_score(y_test, y_pred)\n",
    "print(\"The accuracy of our model is {}%\".format(round(score, 2) *100))"
   ]
  }
 ],
 "metadata": {
  "kernelspec": {
   "display_name": "Python 3",
   "language": "python",
   "name": "python3"
  },
  "language_info": {
   "codemirror_mode": {
    "name": "ipython",
    "version": 3
   },
   "file_extension": ".py",
   "mimetype": "text/x-python",
   "name": "python",
   "nbconvert_exporter": "python",
   "pygments_lexer": "ipython3",
   "version": "3.9.6"
  }
 },
 "nbformat": 4,
 "nbformat_minor": 2
}
