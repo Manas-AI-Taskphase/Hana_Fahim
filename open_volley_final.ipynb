{
 "cells": [
  {
   "cell_type": "code",
   "execution_count": 1,
   "metadata": {},
   "outputs": [
    {
     "name": "stderr",
     "output_type": "stream",
     "text": [
      "2024-03-29 18:30:04.923 Python[2690:218391] WARNING: Secure coding is automatically enabled for restorable state! However, not on all supported macOS versions of this application. Opt-in to secure coding explicitly by implementing NSApplicationDelegate.applicationSupportsSecureRestorableState:.\n"
     ]
    }
   ],
   "source": [
    "import cv2\n",
    "import numpy as np\n",
    "count_b=0\n",
    "count_r=0\n",
    "cap=cv2.VideoCapture('volleyball_match.mp4')\n",
    "ret,frame=cap.read()\n",
    "l_y=np.array([7,100,100])#lower hsv bound for yellow\n",
    "u_y=np.array([30,255,255])#upper hsv bound to yellow\n",
    "l_r=np.array([174,199,0]) #lower hsv bound for red\n",
    "u_r=np.array([224,255,255]) #upper hsv bound for red\n",
    "while ret==True:\n",
    "    ret,frame=cap.read()\n",
    "    count_b=0\n",
    "    count_r=0\n",
    "    if not ret:\n",
    "        break\n",
    "    hsv=cv2.cvtColor(frame,cv2.COLOR_BGR2HSV)\n",
    "    mask=cv2.inRange(hsv,l_y,u_y)\n",
    "    mask2=cv2.inRange(hsv,l_r,u_r)\n",
    "    contours,_= cv2.findContours(mask,cv2.RETR_TREE,cv2.CHAIN_APPROX_SIMPLE)\n",
    "    contours2,h=cv2.findContours(mask2,cv2.RETR_TREE,cv2.CHAIN_APPROX_SIMPLE)\n",
    "    for contour in contours:\n",
    "        area = cv2.contourArea(contour) \n",
    "        if (area>=130 and area<=250 ):\n",
    "            approx=cv2.approxPolyDP(contour, 0.01*cv2.arcLength(contour,True),True) \n",
    "            if len(approx)>15:\n",
    "                x, y, w, h = cv2.boundingRect(approx) \n",
    "                if (abs(w-h)<=5):\n",
    "                    cv2.rectangle(frame, (x, y), (x+w, y+h), (0, 255, 0), 2) \n",
    "        if area>600:\n",
    "            count_b+=1\n",
    "            cv2.putText(frame, '#players Brazil='+str(count_b), (50, 150), cv2.FONT_HERSHEY_SIMPLEX, 1, (255, 0, 0), 2)\n",
    "            x, y, w, h = cv2.boundingRect(contour) \n",
    "            cv2.rectangle(frame, (x, y), (x+w, y+h), (0, 255, 0), 2)     \n",
    "    for cnt in contours2:\n",
    "        area = cv2.contourArea(cnt)\n",
    "        if area>1600:\n",
    "            count_r+=1\n",
    "            cv2.putText(frame, '#players Russia='+str(count_r), (50, 100), cv2.FONT_HERSHEY_SIMPLEX, 1, (255, 0, 0), 2)\n",
    "            x, y, w, h = cv2.boundingRect(cnt) \n",
    "            cv2.rectangle(frame, (x, y), (x+w, y+h), (0, 255, 0), 2) \n",
    "    cv2.imshow(\"frame\",frame)\n",
    "    cv2.imshow(\"mask\",mask)\n",
    "    cv2.imshow('mask 2', mask2)\n",
    "    if cv2.waitKey(10) & 0xFF==ord('q'):\n",
    "        break\n",
    "cap.release()\n",
    "cv2.destroyAllWindows()"
   ]
  }
 ],
 "metadata": {
  "kernelspec": {
   "display_name": "Python 3",
   "language": "python",
   "name": "python3"
  },
  "language_info": {
   "codemirror_mode": {
    "name": "ipython",
    "version": 3
   },
   "file_extension": ".py",
   "mimetype": "text/x-python",
   "name": "python",
   "nbconvert_exporter": "python",
   "pygments_lexer": "ipython3",
   "version": "3.9.6"
  }
 },
 "nbformat": 4,
 "nbformat_minor": 2
}
